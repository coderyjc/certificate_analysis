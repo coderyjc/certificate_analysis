{
 "cells": [
  {
   "cell_type": "code",
   "execution_count": 5,
   "metadata": {},
   "outputs": [],
   "source": [
    "import pandas as pd\n",
    "from sqlalchemy import create_engine\n",
    "\n",
    "USER_NAME = \"root\"\n",
    "PASSWORD = \"333\"\n",
    "IP_ADDRESS = \"localhost\"\n",
    "PORT = 3306\n",
    "DB_NAME = \"certificate_analysis\"\n",
    "\n",
    "# 初始化数据库连接\n",
    "# 按实际情况依次填写MySQL的用户名、密码、IP地址、端口、数据库名\n",
    "engine = create_engine(\"mysql+pymysql://{}:{}@{}:{}/{}\"\n",
    "                       .format(USER_NAME, PASSWORD, IP_ADDRESS, PORT, DB_NAME))"
   ]
  },
  {
   "cell_type": "code",
   "execution_count": 6,
   "metadata": {},
   "outputs": [],
   "source": [
    "sql_query = 'select count(*) from certificate;'\n",
    "\n",
    "# 使用pandas的read_sql_query函数执行SQL语句，并存入DataFrame\n",
    "df_read = pd.read_sql_query(sql_query, engine)\n"
   ]
  },
  {
   "cell_type": "code",
   "execution_count": 8,
   "metadata": {},
   "outputs": [
    {
     "data": {
      "text/html": [
       "<div>\n",
       "<style scoped>\n",
       "    .dataframe tbody tr th:only-of-type {\n",
       "        vertical-align: middle;\n",
       "    }\n",
       "\n",
       "    .dataframe tbody tr th {\n",
       "        vertical-align: top;\n",
       "    }\n",
       "\n",
       "    .dataframe thead th {\n",
       "        text-align: right;\n",
       "    }\n",
       "</style>\n",
       "<table border=\"1\" class=\"dataframe\">\n",
       "  <thead>\n",
       "    <tr style=\"text-align: right;\">\n",
       "      <th></th>\n",
       "      <th>count(*)</th>\n",
       "    </tr>\n",
       "  </thead>\n",
       "  <tbody>\n",
       "    <tr>\n",
       "      <th>0</th>\n",
       "      <td>826</td>\n",
       "    </tr>\n",
       "  </tbody>\n",
       "</table>\n",
       "</div>"
      ],
      "text/plain": [
       "   count(*)\n",
       "0       826"
      ]
     },
     "execution_count": 8,
     "metadata": {},
     "output_type": "execute_result"
    }
   ],
   "source": [
    "# DataFrame写入MySQL\n",
    "# 新建DataFrame\n",
    "df_write = pd.DataFrame({'id': [10, 27, 34, 46], 'name': ['张三', '李四', '王五', '赵六'], 'score': [80, 75, 56, 99]})\n",
    "\n",
    "# 将df储存为MySQL中的表，不储存index列\n",
    "df_write.to_sql('testdf', engine, index=False)\n",
    "\n"
   ]
  },
  {
   "cell_type": "code",
   "execution_count": null,
   "metadata": {},
   "outputs": [],
   "source": []
  }
 ],
 "metadata": {
  "kernelspec": {
   "display_name": "base",
   "language": "python",
   "name": "python3"
  },
  "language_info": {
   "codemirror_mode": {
    "name": "ipython",
    "version": 3
   },
   "file_extension": ".py",
   "mimetype": "text/x-python",
   "name": "python",
   "nbconvert_exporter": "python",
   "pygments_lexer": "ipython3",
   "version": "3.9.13 (main, Aug 25 2022, 23:51:50) [MSC v.1916 64 bit (AMD64)]"
  },
  "orig_nbformat": 4,
  "vscode": {
   "interpreter": {
    "hash": "2712e28f4ba695672fbe3acf5940c00bba5370910fb8f6e17ae425504fce85bd"
   }
  }
 },
 "nbformat": 4,
 "nbformat_minor": 2
}
