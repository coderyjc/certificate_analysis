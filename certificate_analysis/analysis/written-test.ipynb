{
 "cells": [
  {
   "attachments": {},
   "cell_type": "markdown",
   "metadata": {},
   "source": [
    "### 导入DataFrame到数据库"
   ]
  },
  {
   "cell_type": "code",
   "execution_count": 41,
   "metadata": {},
   "outputs": [],
   "source": [
    "import pandas as pd\n",
    "from sqlalchemy import create_engine\n",
    "\n",
    "USER_NAME = \"root\"\n",
    "PASSWORD = \"333\"\n",
    "IP_ADDRESS = \"localhost\"\n",
    "PORT = 3306\n",
    "DB_NAME = \"certificate_analysis\"\n",
    "\n",
    "# 初始化数据库连接\n",
    "# 按实际情况依次填写MySQL的用户名、密码、IP地址、端口、数据库名\n",
    "engine = create_engine(\"mysql+pymysql://{}:{}@{}:{}/{}\"\n",
    "                       .format(USER_NAME, PASSWORD, IP_ADDRESS, PORT, DB_NAME))"
   ]
  },
  {
   "cell_type": "code",
   "execution_count": 50,
   "metadata": {},
   "outputs": [],
   "source": [
    "xlsx_data = pd.read_excel(io='./data/2013年认定.xlsx', sheet_name=None)"
   ]
  },
  {
   "cell_type": "code",
   "execution_count": 52,
   "metadata": {},
   "outputs": [],
   "source": [
    "for key, value in xlsx_data.items():\n",
    "    # 获取列的个数\n",
    "    len_column = len(list(value))\n",
    "    # 6列是证书\n",
    "    if len_column == 6:\n",
    "        value.to_sql('certificate', engine, if_exists='append',index=False)\n",
    "    # 7列是面试成绩\n",
    "    elif len_column == 7:\n",
    "        value.to_sql('interview_score', engine, if_exists='append',index=False)\n",
    "    # 11列是笔试成绩\n",
    "    elif len_column == 11:\n",
    "        value.to_sql('written_score', engine, if_exists='append',index=False)\n",
    "    # 17列是认定成绩\n",
    "    elif len_column == 17:\n",
    "        value.to_sql('identification', engine, if_exists='append',index=False)\n",
    "    else: \n",
    "        # 返回错误\n",
    "        pass"
   ]
  },
  {
   "attachments": {},
   "cell_type": "markdown",
   "metadata": {},
   "source": [
    "## 教育背景分析\n",
    "- 考生来源地图\n",
    "- 学位分布分析\n",
    "- 专业词云图\n"
   ]
  },
  {
   "cell_type": "markdown",
   "source": [
    "### Excel"
   ],
   "metadata": {
    "collapsed": false
   }
  },
  {
   "cell_type": "code",
   "execution_count": null,
   "outputs": [],
   "source": [],
   "metadata": {
    "collapsed": false
   }
  },
  {
   "cell_type": "markdown",
   "source": [
    "### MySQL"
   ],
   "metadata": {
    "collapsed": false
   }
  },
  {
   "cell_type": "code",
   "execution_count": null,
   "outputs": [],
   "source": [],
   "metadata": {
    "collapsed": false
   }
  },
  {
   "attachments": {},
   "cell_type": "markdown",
   "metadata": {},
   "source": [
    "## 认定信息分析\n",
    "- 性别、考试类型、机构类型、专业类别\n",
    "- 最高学位\n",
    "- 认定地点分析"
   ]
  },
  {
   "cell_type": "code",
   "execution_count": null,
   "metadata": {},
   "outputs": [],
   "source": []
  },
  {
   "cell_type": "code",
   "execution_count": null,
   "metadata": {},
   "outputs": [],
   "source": []
  },
  {
   "cell_type": "code",
   "execution_count": null,
   "metadata": {},
   "outputs": [],
   "source": []
  },
  {
   "cell_type": "markdown",
   "metadata": {},
   "source": [
    "## 成绩可视化\n",
    "- 三次缺考率，面试缺考率\n",
    "- 三科的平均分和通过率"
   ]
  },
  {
   "cell_type": "markdown",
   "source": [
    "### Excel"
   ],
   "metadata": {
    "collapsed": false
   }
  },
  {
   "cell_type": "markdown",
   "source": [
    "## 面试成绩分析\n",
    "\n",
    "- 各级别的人数"
   ],
   "metadata": {
    "collapsed": false
   }
  },
  {
   "cell_type": "markdown",
   "source": [
    "### Excel"
   ],
   "metadata": {
    "collapsed": false
   }
  },
  {
   "cell_type": "code",
   "execution_count": 2,
   "outputs": [],
   "source": [
    "import pandas as pd"
   ],
   "metadata": {
    "collapsed": false
   }
  },
  {
   "cell_type": "code",
   "execution_count": 1,
   "outputs": [],
   "source": [
    "# constant\n",
    "FILE_PATH_INTERVIEW = './data/2013年面试成绩导出.xlsx'"
   ],
   "metadata": {
    "collapsed": false
   }
  },
  {
   "cell_type": "code",
   "execution_count": 11,
   "outputs": [],
   "source": [
    "# read Data from csv\n",
    "data_interview_score = pd.read_excel(FILE_PATH_INTERVIEW)"
   ],
   "metadata": {
    "collapsed": false
   }
  },
  {
   "cell_type": "code",
   "execution_count": 12,
   "outputs": [
    {
     "data": {
      "text/plain": "  测试点   姓名                身份证号        工作单位         申请专业 等级   考试时间\n0  廊坊  蔡志为  131025198708020036    北华航天工业学院         机械制造  B  2013年\n1  廊坊   畅谈  370502196904063225  河北石油职业技术学院  C560502工程造价  B  2013年\n2  廊坊  陈丽缓  130123198604147544    北华航天工业学院         机械工程  A  2013年\n3  廊坊   陈英  130282198512130046  廊坊燕京职业技术学院         机械制图  B  2013年\n4  廊坊   陈莹  610121198702180868  河北石油职业技术学院         机械制图  B  2013年",
      "text/html": "<div>\n<style scoped>\n    .dataframe tbody tr th:only-of-type {\n        vertical-align: middle;\n    }\n\n    .dataframe tbody tr th {\n        vertical-align: top;\n    }\n\n    .dataframe thead th {\n        text-align: right;\n    }\n</style>\n<table border=\"1\" class=\"dataframe\">\n  <thead>\n    <tr style=\"text-align: right;\">\n      <th></th>\n      <th>测试点</th>\n      <th>姓名</th>\n      <th>身份证号</th>\n      <th>工作单位</th>\n      <th>申请专业</th>\n      <th>等级</th>\n      <th>考试时间</th>\n    </tr>\n  </thead>\n  <tbody>\n    <tr>\n      <th>0</th>\n      <td>廊坊</td>\n      <td>蔡志为</td>\n      <td>131025198708020036</td>\n      <td>北华航天工业学院</td>\n      <td>机械制造</td>\n      <td>B</td>\n      <td>2013年</td>\n    </tr>\n    <tr>\n      <th>1</th>\n      <td>廊坊</td>\n      <td>畅谈</td>\n      <td>370502196904063225</td>\n      <td>河北石油职业技术学院</td>\n      <td>C560502工程造价</td>\n      <td>B</td>\n      <td>2013年</td>\n    </tr>\n    <tr>\n      <th>2</th>\n      <td>廊坊</td>\n      <td>陈丽缓</td>\n      <td>130123198604147544</td>\n      <td>北华航天工业学院</td>\n      <td>机械工程</td>\n      <td>A</td>\n      <td>2013年</td>\n    </tr>\n    <tr>\n      <th>3</th>\n      <td>廊坊</td>\n      <td>陈英</td>\n      <td>130282198512130046</td>\n      <td>廊坊燕京职业技术学院</td>\n      <td>机械制图</td>\n      <td>B</td>\n      <td>2013年</td>\n    </tr>\n    <tr>\n      <th>4</th>\n      <td>廊坊</td>\n      <td>陈莹</td>\n      <td>610121198702180868</td>\n      <td>河北石油职业技术学院</td>\n      <td>机械制图</td>\n      <td>B</td>\n      <td>2013年</td>\n    </tr>\n  </tbody>\n</table>\n</div>"
     },
     "execution_count": 12,
     "metadata": {},
     "output_type": "execute_result"
    }
   ],
   "source": [
    "# inspect the head 5 data\n",
    "data_interview_score.head(5)"
   ],
   "metadata": {
    "collapsed": false
   }
  },
  {
   "cell_type": "markdown",
   "source": [
    "各个级别的人数"
   ],
   "metadata": {
    "collapsed": false
   }
  },
  {
   "cell_type": "code",
   "execution_count": 27,
   "outputs": [
    {
     "data": {
      "text/plain": "等级\nA      508\nB     1416\nC      740\nD      647\n缺考     215\nName: 等级, dtype: int64"
     },
     "execution_count": 27,
     "metadata": {},
     "output_type": "execute_result"
    }
   ],
   "source": [
    "rst_interview_score = data_interview_score.groupby('等级')['等级'].count()\n",
    "rst_interview_score"
   ],
   "metadata": {
    "collapsed": false
   }
  },
  {
   "cell_type": "code",
   "execution_count": 28,
   "outputs": [
    {
     "data": {
      "text/plain": "{'A': 508, 'B': 1416, 'C': 740, 'D': 647, '缺考': 215}"
     },
     "execution_count": 28,
     "metadata": {},
     "output_type": "execute_result"
    }
   ],
   "source": [
    "dict_rst_interview_score = dict(rst_interview_score)\n",
    "dict_rst_interview_score"
   ],
   "metadata": {
    "collapsed": false
   }
  },
  {
   "cell_type": "code",
   "execution_count": null,
   "outputs": [],
   "source": [],
   "metadata": {
    "collapsed": false
   }
  }
 ],
 "metadata": {
  "kernelspec": {
   "display_name": "base",
   "language": "python",
   "name": "python3"
  },
  "language_info": {
   "codemirror_mode": {
    "name": "ipython",
    "version": 3
   },
   "file_extension": ".py",
   "mimetype": "text/x-python",
   "name": "python",
   "nbconvert_exporter": "python",
   "pygments_lexer": "ipython3",
   "version": "3.9.13 (main, Aug 25 2022, 23:51:50) [MSC v.1916 64 bit (AMD64)]"
  },
  "orig_nbformat": 4,
  "vscode": {
   "interpreter": {
    "hash": "2712e28f4ba695672fbe3acf5940c00bba5370910fb8f6e17ae425504fce85bd"
   }
  }
 },
 "nbformat": 4,
 "nbformat_minor": 2
}
