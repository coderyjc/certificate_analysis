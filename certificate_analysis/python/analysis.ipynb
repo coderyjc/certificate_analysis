{
 "cells": [
  {
   "attachments": {},
   "cell_type": "markdown",
   "metadata": {},
   "source": [
    "### 数据获取"
   ]
  },
  {
   "cell_type": "code",
   "execution_count": 1,
   "metadata": {},
   "outputs": [],
   "source": [
    "import  pymysql\n",
    "import pandas as pd\n",
    " \n",
    "'''\n",
    "获取以下数据：\n",
    "- 性别\n",
    "- 三科的成绩\n",
    "- 考试状态\n",
    "- 学校\n",
    "---------- 地区\n",
    "'''\n",
    "def list_written_score(year=''):\n",
    "\n",
    "\n",
    "  db = pymysql.connect(host=\"localhost\", user=\"root\", password=\"333\", database=\"certificate_analysis\")\n",
    "  cursor = db.cursor()\n",
    "\n",
    "  SQL = 'select tbl_written_score.id, tpi.province, gender, education_score, education_psychology_score, education_status, education_psychology_status, work_address \\\n",
    "  from tbl_written_score \\\n",
    "  join tbl_province_id tpi \\\n",
    "  where substr(identification_id, 3, 2) = tpi.id'\n",
    "  if year != '':\n",
    "    SQL += ' and exam_date = ' + str(year)\n",
    "  \n",
    "  cursor.execute(SQL)\n",
    "\n",
    "  data = cursor.fetchall()\n",
    "  dic = {}\n",
    "\n",
    "  for row in data:\n",
    "    dic[row[0]] = row[1:]\n",
    "\n",
    "  print(\"count: %s \" % len(dic.items()))\n",
    "\n",
    "  db.close()\n",
    "  data = pd.DataFrame.from_dict(dic, orient='index', columns=['province', 'gender','education_score','education_psychology_score','education_status','education_psychology_status','work_address'])\n",
    "  \n",
    "  return data"
   ]
  },
  {
   "attachments": {},
   "cell_type": "markdown",
   "metadata": {},
   "source": [
    "### 数据清洗\n",
    "\n",
    "- 考试状态不是正常的数据\n",
    "- 考试数据为正常，但是缺考的成绩"
   ]
  },
  {
   "cell_type": "code",
   "execution_count": 2,
   "metadata": {},
   "outputs": [
    {
     "name": "stdout",
     "output_type": "stream",
     "text": [
      "count: 5078 \n",
      "数据清洗之后: 5077\n"
     ]
    }
   ],
   "source": [
    "# 删除考试状态不正常的数据\n",
    "\n",
    "data = list_written_score(2016)\n",
    "data = data.drop(data[(data.education_status == '作弊') | (data.education_psychology_status == '作弊')].index)\n",
    "\n",
    "# 删除考试状态列\n",
    "data.drop(['education_status','education_psychology_status'], axis=1)\n",
    "\n",
    "print('数据清洗之后: %s' % len(data))\n",
    "\n",
    "# 使用平均值进行缺失值填充\n",
    "avg_education_score = data.education_score.mean()\n",
    "avg_education_psychology_score = data.education_psychology_score.mean()\n",
    "\n",
    "data = data.replace({\n",
    "    \"education_score\": {\n",
    "        0: avg_education_score,\n",
    "        -1: avg_education_score\n",
    "    },\n",
    "    \"education_psychology_score\": {\n",
    "      0: avg_education_psychology_score,\n",
    "      -1: avg_education_psychology_score\n",
    "    }\n",
    "})\n"
   ]
  },
  {
   "attachments": {},
   "cell_type": "markdown",
   "metadata": {},
   "source": [
    "### 聚类分析\n",
    "\n",
    "1. 先分析最佳的K值\n",
    "2. 然后根据最佳的K值对数据进行聚类分析\n"
   ]
  },
  {
   "cell_type": "code",
   "execution_count": 3,
   "metadata": {},
   "outputs": [
    {
     "name": "stdout",
     "output_type": "stream",
     "text": [
      "[1077765.7691719302, 352870.15525596304, 186436.28693373068, 100947.92162276227, 71005.52111546835, 49117.281268563536, 37270.84812243998, 29043.959117015613, 23388.337625828797]\n"
     ]
    },
    {
     "data": {
      "image/png": "[encoded data removed]",
      "text/plain": [
       "<Figure size 640x480 with 1 Axes>"
      ]
     },
     "metadata": {},
     "output_type": "display_data"
    }
   ],
   "source": [
    "# 分析最佳K值\n",
    "from sklearn.cluster import KMeans\n",
    "import matplotlib.pyplot as plt\n",
    "\n",
    "X = data.iloc[:,1: 3]\n",
    "\n",
    "num = range(1,10) # 分别模拟k为1~9的情况\n",
    "\n",
    "sse_result=[] # 用于存放每种k聚类后的SSE\n",
    "\n",
    "for k in num:\n",
    "    kmeans=KMeans(n_clusters=k)\n",
    "    kmeans.fit(X)\n",
    "    # inertia_表示样本到最近的聚类中心的距离总和。\n",
    "    sse_result.append(kmeans.inertia_)\n",
    "\n",
    "print(sse_result)\n",
    "\n",
    "plt.plot(num,sse_result,'b+:') #'b*:'为线的格式设置，b表示蓝色，*为点的标记，:表示线型为点状线条。\n",
    "plt.xlabel('k')\n",
    "plt.ylabel('SSE')\n",
    "plt.title('find the best K value')\n",
    "plt.show()"
   ]
  },
  {
   "cell_type": "code",
   "execution_count": 4,
   "metadata": {},
   "outputs": [
    {
     "name": "stdout",
     "output_type": "stream",
     "text": [
      "[[ 0.4527972  33.3513986 ]\n",
      " [ 0.36259284 64.47062795]\n",
      " [ 0.42562202 50.71869598]\n",
      " [ 0.29955947 78.38942731]]\n"
     ]
    }
   ],
   "source": [
    "from sklearn.cluster import KMeans\n",
    "import numpy as np\n",
    "import matplotlib.pyplot as plt\n",
    "\n",
    "# 输入数据\n",
    "X = data.iloc[:, 1: 3]\n",
    "k = 4\n",
    "\n",
    "# 进行聚类\n",
    "kmeans = KMeans(n_clusters=k, init='random')\n",
    "labels = kmeans.fit_predict(X)\n",
    "cents  = kmeans.cluster_centers_\n",
    "\n",
    "# 画图\n",
    "colors = ['r','g','b','c','m','y','#e24fff','#524C90','#845868']\n",
    "\n",
    "print(cents)\n",
    "\n",
    "# print([ [i, j] for i, j in zip(X.education_score, X.education_psychology_score)])"
   ]
  },
  {
   "attachments": {},
   "cell_type": "markdown",
   "metadata": {},
   "source": [
    "### 相关性分析"
   ]
  },
  {
   "cell_type": "code",
   "execution_count": 5,
   "metadata": {},
   "outputs": [
    {
     "data": {
      "text/html": [
       "<div>\n",
       "<style scoped>\n",
       "    .dataframe tbody tr th:only-of-type {\n",
       "        vertical-align: middle;\n",
       "    }\n",
       "\n",
       "    .dataframe tbody tr th {\n",
       "        vertical-align: top;\n",
       "    }\n",
       "\n",
       "    .dataframe thead th {\n",
       "        text-align: right;\n",
       "    }\n",
       "</style>\n",
       "<table border=\"1\" class=\"dataframe\">\n",
       "  <thead>\n",
       "    <tr style=\"text-align: right;\">\n",
       "      <th></th>\n",
       "      <th>province</th>\n",
       "      <th>gender</th>\n",
       "      <th>education_score</th>\n",
       "      <th>education_psychology_score</th>\n",
       "      <th>work_address</th>\n",
       "    </tr>\n",
       "  </thead>\n",
       "  <tbody>\n",
       "    <tr>\n",
       "      <th>13727</th>\n",
       "      <td>石家庄市</td>\n",
       "      <td>0</td>\n",
       "      <td>48.000000</td>\n",
       "      <td>57.0</td>\n",
       "      <td>河北传媒学院</td>\n",
       "    </tr>\n",
       "    <tr>\n",
       "      <th>13728</th>\n",
       "      <td>保定市</td>\n",
       "      <td>0</td>\n",
       "      <td>50.643687</td>\n",
       "      <td>76.0</td>\n",
       "      <td>河北传媒学院</td>\n",
       "    </tr>\n",
       "    <tr>\n",
       "      <th>13729</th>\n",
       "      <td>秦皇岛市</td>\n",
       "      <td>1</td>\n",
       "      <td>19.000000</td>\n",
       "      <td>20.0</td>\n",
       "      <td>河北传媒学院</td>\n",
       "    </tr>\n",
       "  </tbody>\n",
       "</table>\n",
       "</div>"
      ],
      "text/plain": [
       "      province  gender  education_score  education_psychology_score  \\\n",
       "13727     石家庄市       0        48.000000                        57.0   \n",
       "13728      保定市       0        50.643687                        76.0   \n",
       "13729     秦皇岛市       1        19.000000                        20.0   \n",
       "\n",
       "      work_address  \n",
       "13727       河北传媒学院  \n",
       "13728       河北传媒学院  \n",
       "13729       河北传媒学院  "
      ]
     },
     "execution_count": 5,
     "metadata": {},
     "output_type": "execute_result"
    }
   ],
   "source": [
    "df = data[['province', 'gender', 'education_score', 'education_psychology_score', 'work_address']]\n",
    "df.head(3)"
   ]
  },
  {
   "cell_type": "code",
   "execution_count": 6,
   "metadata": {},
   "outputs": [
    {
     "name": "stdout",
     "output_type": "stream",
     "text": [
      "对科目1的影响\n",
      "[0.43762338 0.07178882 0.4905878 ]\n",
      "对科目2的影响\n",
      "[0.34382665 0.08276365 0.5734097 ]\n"
     ]
    },
    {
     "name": "stderr",
     "output_type": "stream",
     "text": [
      "C:\\Users\\Administrator\\AppData\\Local\\Temp\\ipykernel_42084\\142390259.py:10: SettingWithCopyWarning: \n",
      "A value is trying to be set on a copy of a slice from a DataFrame.\n",
      "Try using .loc[row_indexer,col_indexer] = value instead\n",
      "\n",
      "See the caveats in the documentation: https://pandas.pydata.org/pandas-docs/stable/user_guide/indexing.html#returning-a-view-versus-a-copy\n",
      "  df['province'] = df['province'].astype('category').cat.codes\n",
      "C:\\Users\\Administrator\\AppData\\Local\\Temp\\ipykernel_42084\\142390259.py:11: SettingWithCopyWarning: \n",
      "A value is trying to be set on a copy of a slice from a DataFrame.\n",
      "Try using .loc[row_indexer,col_indexer] = value instead\n",
      "\n",
      "See the caveats in the documentation: https://pandas.pydata.org/pandas-docs/stable/user_guide/indexing.html#returning-a-view-versus-a-copy\n",
      "  df['work_address'] = df['work_address'].astype('category').cat.codes\n"
     ]
    }
   ],
   "source": [
    "from sklearn.tree import DecisionTreeRegressor, DecisionTreeClassifier, plot_tree\n",
    "import pandas as pd\n",
    "import numpy as np\n",
    "import matplotlib.pyplot as plt\n",
    "\n",
    "# 读取数据集\n",
    "df = data[['province', 'gender', 'education_score', 'education_psychology_score', 'work_address']]\n",
    "\n",
    "# 将分类变量转换为数值变量\n",
    "df['province'] = df['province'].astype('category').cat.codes\n",
    "df['work_address'] = df['work_address'].astype('category').cat.codes\n",
    "\n",
    "# 划分特征和目标变量\n",
    "X = df.drop(['education_score', 'education_psychology_score'], axis=1)\n",
    "y1 = df['education_score']\n",
    "y2 = df['education_psychology_score']\n",
    "\n",
    "# 构建决策树分类模型1：预测科目1成绩\n",
    "model3 = DecisionTreeClassifier()\n",
    "model3.fit(X, pd.cut(y1, [0, 60, 70, 80, 90, 100], labels=[1, 2, 3, 4, 5]))\n",
    "\n",
    "print(\"对科目1的影响\")\n",
    "print(model3.feature_importances_)\n",
    "\n",
    "\n",
    "# 输出决策树\n",
    "# plt.figure(figsize=(100, 60))\n",
    "# plot_tree(model3)\n",
    "# plt.savefig('Descitiontree.png')\n",
    "# plt.show()\n",
    "\n",
    "# 构建决策树分类模型2：预测科目2成绩\n",
    "model4 = DecisionTreeClassifier()\n",
    "model4.fit(X, pd.cut(y2, [0, 60, 70, 80, 90, 100], labels=[1, 2, 3, 4, 5]))\n",
    "print(\"对科目2的影响\")\n",
    "print(model4.feature_importances_)\n",
    "\n",
    "# # 输出决策树\n",
    "# plt.figure(figsize=(10, 6))\n",
    "# plot_tree(model4)\n",
    "# plt.show()"
   ]
  },
  {
   "cell_type": "code",
   "execution_count": 7,
   "metadata": {},
   "outputs": [
    {
     "name": "stdout",
     "output_type": "stream",
     "text": [
      "      province  gender  education_score  education_psychology_score  \\\n",
      "13727     石家庄市       0             48.0                        57.0   \n",
      "\n",
      "      work_address  \n",
      "13727       河北传媒学院  \n",
      "对科目1的影响\n",
      "[0.56366368 0.0819502  0.35438612]\n",
      "对科目2的影响\n",
      "[0.4769415  0.09534988 0.42770862]\n"
     ]
    }
   ],
   "source": [
    "from sklearn.tree import DecisionTreeClassifier\n",
    "import pandas as pd\n",
    "\n",
    "# 读取数据集\n",
    "df = data[['province', 'gender', 'education_score', 'education_psychology_score', 'work_address']]\n",
    "df = df.iloc[:500]\n",
    "print(df.head(1))\n",
    "\n",
    "# 将分类变量转换为数值变量\n",
    "df['province'] = df['province'].astype('category').cat.codes\n",
    "df['work_address'] = df['work_address'].astype('category').cat.codes\n",
    "\n",
    "# 划分特征和目标变量\n",
    "X = df.drop(['education_score', 'education_psychology_score'], axis=1)\n",
    "y1 = df['education_score']\n",
    "y2 = df['education_psychology_score']\n",
    "\n",
    "# 构建决策树分类模型1：预测科目1成绩\n",
    "model3 = DecisionTreeClassifier()\n",
    "model3.fit(X, pd.cut(y1, [0, 60, 70, 80, 90, 100], labels=[1, 2, 3, 4, 5]))\n",
    "\n",
    "print(\"对科目1的影响\")\n",
    "print(model3.feature_importances_)\n",
    "\n",
    "# 构建决策树分类模型2：预测科目2成绩\n",
    "model4 = DecisionTreeClassifier()\n",
    "model4.fit(X, pd.cut(y2, [0, 60, 70, 80, 90, 100], labels=[1, 2, 3, 4, 5]))\n",
    "print(\"对科目2的影响\")\n",
    "print(model4.feature_importances_)\n"
   ]
  }
 ],
 "metadata": {
  "kernelspec": {
   "display_name": "base",
   "language": "python",
   "name": "python3"
  },
  "language_info": {
   "codemirror_mode": {
    "name": "ipython",
    "version": 3
   },
   "file_extension": ".py",
   "mimetype": "text/x-python",
   "name": "python",
   "nbconvert_exporter": "python",
   "pygments_lexer": "ipython3",
   "version": "3.9.13 (main, Aug 25 2022, 23:51:50) [MSC v.1916 64 bit (AMD64)]"
  },
  "orig_nbformat": 4,
  "vscode": {
   "interpreter": {
    "hash": "2712e28f4ba695672fbe3acf5940c00bba5370910fb8f6e17ae425504fce85bd"
   }
  }
 },
 "nbformat": 4,
 "nbformat_minor": 2
}
